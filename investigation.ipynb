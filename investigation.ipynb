{
 "cells": [
  {
   "cell_type": "markdown",
   "metadata": {},
   "source": [
    "- [Float to bits](https://stackoverflow.com/questions/16444726/binary-representation-of-float-in-python-bits-not-hex)\n",
    "- [Paper 1](https://arxiv.org/pdf/2107.08590.pdf)\n",
    "- [Paper 2](https://arxiv.org/pdf/2109.04344v2.pdf)"
   ]
  },
  {
   "cell_type": "code",
   "execution_count": 1,
   "metadata": {},
   "outputs": [],
   "source": [
    "import math\n",
    "import random\n",
    "from typing import List, Tuple\n",
    "\n",
    "import numpy as np\n",
    "import matplotlib.pyplot as plt\n",
    "\n",
    "from stego import FloatBinary, str_to_bits, bits_to_str"
   ]
  },
  {
   "cell_type": "markdown",
   "metadata": {
    "tags": []
   },
   "source": [
    "# Float modification"
   ]
  },
  {
   "cell_type": "markdown",
   "metadata": {},
   "source": [
    "## Test the implementation"
   ]
  },
  {
   "cell_type": "markdown",
   "metadata": {},
   "source": [
    "### Convert value to the new type - see how the reconstruction goes"
   ]
  },
  {
   "cell_type": "code",
   "execution_count": 2,
   "metadata": {},
   "outputs": [
    {
     "name": "stdout",
     "output_type": "stream",
     "text": [
      "Reconstructed float: -99.88999938964844\n",
      "Diff of original and reconstructed: 6.103515630684342e-07\n"
     ]
    }
   ],
   "source": [
    "v = -99.89\n",
    "x = FloatBinary(v)\n",
    "\n",
    "print(f\"Reconstructed float: {x.reconstruct_float_value()}\")\n",
    "print(f\"Diff of original and reconstructed: {abs(v - x.reconstruct_float_value())}\")"
   ]
  },
  {
   "cell_type": "markdown",
   "metadata": {},
   "source": [
    "### Investigate the range for the float value when changing the last K bits"
   ]
  },
  {
   "cell_type": "code",
   "execution_count": 3,
   "metadata": {},
   "outputs": [
    {
     "name": "stdout",
     "output_type": "stream",
     "text": [
      "Last 16 bits are 0s: -99.5\n",
      "Last 16 bits are 1s: -99.99999237060547\n",
      "Last 16 bits are random 0/1: -99.95637512207031\n"
     ]
    }
   ],
   "source": [
    "# Bits to modify from fraction\n",
    "k = 16\n",
    "\n",
    "f_0 = x.fraction[:7] + (False,) * k\n",
    "print(f\"Last {k} bits are 0s: {x.modify_clone(fraction=f_0).v}\")\n",
    "\n",
    "f_1 = x.fraction[:7] + (True,) * k\n",
    "print(f\"Last {k} bits are 1s: {x.modify_clone(fraction=f_1).v}\")\n",
    "\n",
    "f_r = x.fraction[:7] + tuple(random.choices([True, False], k=k))\n",
    "print(f\"Last {k} bits are random 0/1: {x.modify_clone(fraction=f_r).v}\")"
   ]
  },
  {
   "cell_type": "code",
   "execution_count": 4,
   "metadata": {},
   "outputs": [],
   "source": [
    "tmp = []\n",
    "\n",
    "for _ in range(1000):\n",
    "    f_r = x.fraction[:7] + tuple(random.choices([True, False], k=k))\n",
    "    tmp.append(x.modify_clone(fraction=f_r).v)"
   ]
  },
  {
   "cell_type": "code",
   "execution_count": 5,
   "metadata": {},
   "outputs": [
    {
     "data": {
      "image/png": "[encoded data removed]",
      "text/plain": [
       "<Figure size 432x288 with 1 Axes>"
      ]
     },
     "metadata": {
      "needs_background": "light"
     },
     "output_type": "display_data"
    }
   ],
   "source": [
    "plt.hist(tmp)\n",
    "plt.title(f\"Float values when randomly changing the last {k} bits of the fraction\");"
   ]
  },
  {
   "cell_type": "markdown",
   "metadata": {},
   "source": [
    "# \"Hide\" a string in a list of float values"
   ]
  },
  {
   "cell_type": "code",
   "execution_count": 6,
   "metadata": {},
   "outputs": [],
   "source": [
    "# Test\n",
    "test_str: str = \"I am Gabor, this is a test\"\n",
    "assert bits_to_str(str_to_bits(test_str)) == test_str, \"Reconstructed is not the same string\""
   ]
  },
  {
   "cell_type": "markdown",
   "metadata": {},
   "source": [
    "## The data"
   ]
  },
  {
   "cell_type": "code",
   "execution_count": 7,
   "metadata": {},
   "outputs": [],
   "source": [
    "# Text we want to hide\n",
    "s_to_hide = \"I am Gabor and I want to add this to the model. Let's see how it goes, hopefully we can recover the message.\""
   ]
  },
  {
   "cell_type": "code",
   "execution_count": 8,
   "metadata": {},
   "outputs": [
    {
     "name": "stdout",
     "output_type": "stream",
     "text": [
      "Text to hide is 864 bits -- 108.0 bytes\n"
     ]
    }
   ],
   "source": [
    "s_bits = str_to_bits(s_to_hide)\n",
    "print(f\"Text to hide is {len(s_bits)} bits -- {len(s_bits)/8} bytes\")"
   ]
  },
  {
   "cell_type": "markdown",
   "metadata": {},
   "source": [
    "## Let's hide it"
   ]
  },
  {
   "cell_type": "code",
   "execution_count": 9,
   "metadata": {},
   "outputs": [],
   "source": [
    "# String as a list of bits\n",
    "s_bits = str_to_bits(s_to_hide, as_list=False)\n",
    "# Bits to use from the fraction of the float value \n",
    "nb_bits_to_modify_from_fraction:int = 8\n",
    "assert nb_bits_to_modify_from_fraction <= 23, \"Number of bits can't be bigger the number of bits in the fraction\""
   ]
  },
  {
   "cell_type": "code",
   "execution_count": 10,
   "metadata": {},
   "outputs": [],
   "source": [
    "# This is how many values are needed to recover the hidden string\n",
    "nb_vales_needed:int = math.ceil(len(s_bits) / nb_bits_to_modify_from_fraction)"
   ]
  },
  {
   "cell_type": "code",
   "execution_count": 11,
   "metadata": {},
   "outputs": [
    {
     "name": "stdout",
     "output_type": "stream",
     "text": [
      "(minimum) Number of data points needed: 108 (32bit float values)\n"
     ]
    }
   ],
   "source": [
    "print(f\"(minimum) Number of data points needed: {nb_vales_needed} (32bit float values)\")"
   ]
  },
  {
   "cell_type": "code",
   "execution_count": 12,
   "metadata": {},
   "outputs": [],
   "source": [
    "# Data what we can modify and hide the text by modifying float bits\n",
    "data = [random.uniform(-1, 1) for _ in range(nb_vales_needed)]"
   ]
  },
  {
   "cell_type": "code",
   "execution_count": 13,
   "metadata": {},
   "outputs": [
    {
     "name": "stdout",
     "output_type": "stream",
     "text": [
      "Theoretical max text size to hide is 864 bits - 108.0 bytes\n"
     ]
    }
   ],
   "source": [
    "# Using only the last N bits of each float value\n",
    "theoretical_max_hide_size = len(data) * nb_bits_to_modify_from_fraction\n",
    "print(f\"Theoretical max text size to hide is {theoretical_max_hide_size} bits - {theoretical_max_hide_size/8} bytes\")"
   ]
  },
  {
   "cell_type": "code",
   "execution_count": 14,
   "metadata": {},
   "outputs": [],
   "source": [
    "modified_data: List[float] = []\n",
    "last_modified_index:int = -1\n",
    "\n",
    "for i in range(nb_vales_needed):\n",
    "    _from_index = i * nb_bits_to_modify_from_fraction\n",
    "    _to_index = _from_index + nb_bits_to_modify_from_fraction\n",
    "    bits_to_hide = s_bits[_from_index:_to_index]\n",
    "    bits_to_hide = list(map(bool, bits_to_hide))\n",
    "    \n",
    "    x = FloatBinary(data[i])\n",
    "    \n",
    "    fraction_modified = list(x.fraction)\n",
    "    fraction_modified[-nb_bits_to_modify_from_fraction:] = bits_to_hide\n",
    "    x_modified = x.modify_clone(fraction=tuple(fraction_modified))\n",
    "    modified_data.append(x_modified.v)\n",
    "last_modified_index = i"
   ]
  },
  {
   "cell_type": "markdown",
   "metadata": {},
   "source": [
    "### Change in the float values"
   ]
  },
  {
   "cell_type": "code",
   "execution_count": 15,
   "metadata": {},
   "outputs": [],
   "source": [
    "diff = np.array(modified_data) - np.array(data)\n",
    "diff_abs = np.abs(diff)"
   ]
  },
  {
   "cell_type": "code",
   "execution_count": 16,
   "metadata": {},
   "outputs": [
    {
     "data": {
      "image/png": "[encoded data removed]",
      "text/plain": [
       "<Figure size 720x288 with 2 Axes>"
      ]
     },
     "metadata": {
      "needs_background": "light"
     },
     "output_type": "display_data"
    }
   ],
   "source": [
    "fig, axs = plt.subplots(1, 2, figsize=(10, 4))\n",
    "axs[0].hist(diff)\n",
    "axs[0].set_title(\"Difference in float values\")\n",
    "axs[1].hist(diff_abs)\n",
    "axs[1].set_title(\"Absolute Difference in float values\");"
   ]
  },
  {
   "cell_type": "code",
   "execution_count": 17,
   "metadata": {},
   "outputs": [
    {
     "name": "stdout",
     "output_type": "stream",
     "text": [
      "Min diff: 2.9401250323246586e-09\n",
      "Max diff: 1.2833609038143123e-05\n",
      "Mean diff: 3.289027981075217e-06\n"
     ]
    }
   ],
   "source": [
    "print(f\"Min diff: {diff_abs.min()}\")\n",
    "print(f\"Max diff: {diff_abs.max()}\")\n",
    "print(f\"Mean diff: {diff_abs.mean()}\")"
   ]
  },
  {
   "cell_type": "markdown",
   "metadata": {},
   "source": [
    "## Recover the message"
   ]
  },
  {
   "cell_type": "code",
   "execution_count": 18,
   "metadata": {},
   "outputs": [],
   "source": [
    "hidden_data: List[bool] = []\n",
    "\n",
    "for d in modified_data:\n",
    "    x = FloatBinary(d)\n",
    "    hidden_bits = x.fraction[-nb_bits_to_modify_from_fraction:]\n",
    "    hidden_data.extend(hidden_bits)"
   ]
  },
  {
   "cell_type": "code",
   "execution_count": 19,
   "metadata": {},
   "outputs": [],
   "source": [
    "recovered_message: str = bits_to_str(list(map(int, hidden_data)))"
   ]
  },
  {
   "cell_type": "code",
   "execution_count": 22,
   "metadata": {},
   "outputs": [
    {
     "name": "stdout",
     "output_type": "stream",
     "text": [
      "Recovered string:\n",
      "'I am Gabor and I want to add this to the model. Let's see how it goes, hopefully we can recover the message.'\n"
     ]
    }
   ],
   "source": [
    "print(f\"Recovered string:\\n'{recovered_message}'\")"
   ]
  },
  {
   "cell_type": "code",
   "execution_count": 20,
   "metadata": {},
   "outputs": [],
   "source": [
    "assert recovered_message == s_to_hide, \"Recovered message is not the same as the original one\""
   ]
  }
 ],
 "metadata": {
  "kernelspec": {
   "display_name": "Python 3",
   "language": "python",
   "name": "python3"
  },
  "language_info": {
   "codemirror_mode": {
    "name": "ipython",
    "version": 3
   },
   "file_extension": ".py",
   "mimetype": "text/x-python",
   "name": "python",
   "nbconvert_exporter": "python",
   "pygments_lexer": "ipython3",
   "version": "3.8.5"
  },
  "toc-autonumbering": true
 },
 "nbformat": 4,
 "nbformat_minor": 4
}
