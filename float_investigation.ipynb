{
 "cells": [
  {
   "cell_type": "code",
   "execution_count": 1,
   "metadata": {},
   "outputs": [],
   "source": [
    "import math\n",
    "import random\n",
    "from typing import List, Tuple\n",
    "\n",
    "import numpy as np\n",
    "import matplotlib.pyplot as plt\n",
    "\n",
    "from stego import FloatBinary, str_to_bits, bits_to_str"
   ]
  },
  {
   "cell_type": "markdown",
   "metadata": {
    "tags": []
   },
   "source": [
    "# Float modification\n",
    "\n",
    "In this notebook I test the implementation for modifying the float values, and I will try to hide a secret in some randomly generated data. After hiding it I will try to recover it and inspect the changes in the modified data.\n",
    "\n",
    "This notebook is the playground for hiding data in a real neural network."
   ]
  },
  {
   "cell_type": "markdown",
   "metadata": {},
   "source": [
    "## Test the implementation"
   ]
  },
  {
   "cell_type": "markdown",
   "metadata": {},
   "source": [
    "### Convert value to the new type - see how the reconstruction goes"
   ]
  },
  {
   "cell_type": "code",
   "execution_count": 2,
   "metadata": {},
   "outputs": [],
   "source": [
    "# Value to convert\n",
    "v = -69.420"
   ]
  },
  {
   "cell_type": "code",
   "execution_count": 3,
   "metadata": {},
   "outputs": [
    {
     "name": "stdout",
     "output_type": "stream",
     "text": [
      "Reconstructed float: -69.41999816894531\n",
      "Difference of original and reconstructed: 1.8310546892053026e-06\n"
     ]
    }
   ],
   "source": [
    "x = FloatBinary(v)\n",
    "\n",
    "print(f\"Reconstructed float: {x.reconstruct_float_value()}\")\n",
    "print(f\"Difference of original and reconstructed: {abs(v - x.reconstruct_float_value())}\")"
   ]
  },
  {
   "cell_type": "code",
   "execution_count": 4,
   "metadata": {},
   "outputs": [
    {
     "name": "stdout",
     "output_type": "stream",
     "text": [
      "Original bits:      11000010100010101101011100001010\n",
      "Reconstructed bits: 11000010100010101101011100001010\n"
     ]
    }
   ],
   "source": [
    "print(f\"Original bits:      {x.as_bit_str()}\")\n",
    "print(f\"Reconstructed bits: {FloatBinary(x.reconstruct_float_value()).as_bit_str()}\")"
   ]
  },
  {
   "cell_type": "markdown",
   "metadata": {},
   "source": [
    "### Investigate the range for the float value when changing the last $K$ bits of the fraction"
   ]
  },
  {
   "cell_type": "code",
   "execution_count": 5,
   "metadata": {},
   "outputs": [
    {
     "name": "stdout",
     "output_type": "stream",
     "text": [
      "Last 16 bits are 0s: -69.0\n",
      "Last 16 bits are 1s: -69.49999237060547\n",
      "Last 16 bits are random 0/1: -69.07525634765625\n"
     ]
    }
   ],
   "source": [
    "# Bits to modify from fraction\n",
    "k = 16\n",
    "\n",
    "f_0 = x.fraction[:7] + (False,) * k\n",
    "print(f\"Last {k} bits are 0s: {x.modify_clone(fraction=f_0).v}\")\n",
    "\n",
    "f_1 = x.fraction[:7] + (True,) * k\n",
    "print(f\"Last {k} bits are 1s: {x.modify_clone(fraction=f_1).v}\")\n",
    "\n",
    "f_r = x.fraction[:7] + tuple(random.choices([True, False], k=k))\n",
    "print(f\"Last {k} bits are random 0/1: {x.modify_clone(fraction=f_r).v}\")"
   ]
  },
  {
   "cell_type": "markdown",
   "metadata": {},
   "source": [
    "#### Inspect change when randomly modifying the last $K$ bits of the fraction"
   ]
  },
  {
   "cell_type": "code",
   "execution_count": 6,
   "metadata": {},
   "outputs": [],
   "source": [
    "tmp = []\n",
    "\n",
    "for _ in range(1000):\n",
    "    f_r = x.fraction[:7] + tuple(random.choices([True, False], k=k))\n",
    "    tmp.append(x.modify_clone(fraction=f_r).v)"
   ]
  },
  {
   "cell_type": "code",
   "execution_count": 7,
   "metadata": {},
   "outputs": [
    {
     "data": {
      "image/png": "[encoded data removed]",
      "text/plain": [
       "<Figure size 432x288 with 1 Axes>"
      ]
     },
     "metadata": {
      "needs_background": "light"
     },
     "output_type": "display_data"
    }
   ],
   "source": [
    "plt.hist(tmp)\n",
    "plt.title(f\"Float values when randomly changing\\nthe last {k} bits of the fraction\")\n",
    "plt.xlabel(\"Value\")\n",
    "plt.ylabel(\"Count\");"
   ]
  },
  {
   "cell_type": "markdown",
   "metadata": {},
   "source": [
    "# \"Hide\" a string in a list of float values"
   ]
  },
  {
   "cell_type": "code",
   "execution_count": 8,
   "metadata": {},
   "outputs": [],
   "source": [
    "# Test the string to bits and bits to string implementation\n",
    "test_str: str = \"I am Gabor, this is a test\"\n",
    "assert bits_to_str(str_to_bits(test_str)) == test_str, \"Reconstructed is not the same string\""
   ]
  },
  {
   "cell_type": "markdown",
   "metadata": {},
   "source": [
    "## Preparing the secret data/message"
   ]
  },
  {
   "cell_type": "code",
   "execution_count": 9,
   "metadata": {},
   "outputs": [],
   "source": [
    "# Text we want to hide\n",
    "s_to_hide = \"I am Gabor and I want to add this secret to the model. Let's see how it goes, hopefully we can recover the message.\""
   ]
  },
  {
   "cell_type": "code",
   "execution_count": 10,
   "metadata": {},
   "outputs": [
    {
     "name": "stdout",
     "output_type": "stream",
     "text": [
      "Text to hide is 920 bits -- 115.0 bytes\n"
     ]
    }
   ],
   "source": [
    "# The text converted to bits\n",
    "s_bits = str_to_bits(s_to_hide)\n",
    "print(f\"Text to hide is {len(s_bits)} bits -- {len(s_bits)/8} bytes\")"
   ]
  },
  {
   "cell_type": "code",
   "execution_count": 11,
   "metadata": {},
   "outputs": [
    {
     "name": "stdout",
     "output_type": "stream",
     "text": [
      "Text in bits:\n",
      "01001001001000000110000101101101001000000100011101100001011000100110111101110010001000000110000101101110011001000010000001001001001000000111011101100001011011100111010000100000011101000110111100100000011000010110010001100100001000000111010001101000011010010111001100100000011100110110010101100011011100100110010101110100001000000111010001101111001000000111010001101000011001010010000001101101011011110110010001100101011011000010111000100000010011000110010101110100001001110111001100100000011100110110010101100101001000000110100001101111011101110010000001101001011101000010000001100111011011110110010101110011001011000010000001101000011011110111000001100101011001100111010101101100011011000111100100100000011101110110010100100000011000110110000101101110001000000111001001100101011000110110111101110110011001010111001000100000011101000110100001100101001000000110110101100101011100110111001101100001011001110110010100101110\n"
     ]
    }
   ],
   "source": [
    "print(f\"Text in bits:\\n{''.join(map(str, s_bits))}\")"
   ]
  },
  {
   "cell_type": "markdown",
   "metadata": {},
   "source": [
    "## Let's hide the secret"
   ]
  },
  {
   "cell_type": "markdown",
   "metadata": {},
   "source": [
    "### Details about the data"
   ]
  },
  {
   "cell_type": "code",
   "execution_count": 12,
   "metadata": {},
   "outputs": [],
   "source": [
    "# Bits to use from the fraction of the float value \n",
    "nb_bits_to_modify_from_fraction:int = 8\n",
    "assert nb_bits_to_modify_from_fraction <= 23, \"Number of bits can't be bigger the number of bits in the fraction\""
   ]
  },
  {
   "cell_type": "code",
   "execution_count": 13,
   "metadata": {},
   "outputs": [],
   "source": [
    "# This is how many values are needed to hide and recover the hidden string\n",
    "nb_vales_needed:int = math.ceil(len(s_bits) / nb_bits_to_modify_from_fraction)"
   ]
  },
  {
   "cell_type": "code",
   "execution_count": 14,
   "metadata": {},
   "outputs": [
    {
     "name": "stdout",
     "output_type": "stream",
     "text": [
      "(minimum) Number of floats needed: 115 (32bit float values)\n"
     ]
    }
   ],
   "source": [
    "print(f\"(minimum) Number of floats needed: {nb_vales_needed} (32bit float values)\")"
   ]
  },
  {
   "cell_type": "code",
   "execution_count": 15,
   "metadata": {},
   "outputs": [],
   "source": [
    "# Randomly generated data what we can modify and hide the text by modifying float bits\n",
    "# In a real life scenario this data is from the model weights\n",
    "data = [random.uniform(-1, 1) for _ in range(nb_vales_needed)]"
   ]
  },
  {
   "cell_type": "code",
   "execution_count": 16,
   "metadata": {},
   "outputs": [
    {
     "name": "stdout",
     "output_type": "stream",
     "text": [
      "Theoretical max text size to hide is 920 bits - 115.0 bytes\n"
     ]
    }
   ],
   "source": [
    "# Using only the last N bits of each float value\n",
    "theoretical_max_hide_size = len(data) * nb_bits_to_modify_from_fraction\n",
    "print(f\"Theoretical max text size to hide is {theoretical_max_hide_size} bits - {theoretical_max_hide_size / 8} bytes\")"
   ]
  },
  {
   "cell_type": "markdown",
   "metadata": {},
   "source": [
    "### Hiding mechanism"
   ]
  },
  {
   "cell_type": "code",
   "execution_count": 17,
   "metadata": {},
   "outputs": [],
   "source": [
    "modified_data: List[float] = []\n",
    "\n",
    "# We need to know the last modified value's index as the secret can be shorter then the data we are using to hide it\n",
    "last_modified_index:int = -1\n",
    "\n",
    "for i in range(nb_vales_needed):\n",
    "    # Define the chunck of data to hide from the secret message bits\n",
    "    _from_index = i * nb_bits_to_modify_from_fraction\n",
    "    _to_index = _from_index + nb_bits_to_modify_from_fraction\n",
    "    bits_to_hide = s_bits[_from_index:_to_index]\n",
    "    bits_to_hide = list(map(bool, bits_to_hide))\n",
    "    \n",
    "    # Modify the current float value fraction bits\n",
    "    x = FloatBinary(data[i])\n",
    "    fraction_modified = list(x.fraction)\n",
    "    fraction_modified[-nb_bits_to_modify_from_fraction:] = bits_to_hide\n",
    "    x_modified = x.modify_clone(fraction=tuple(fraction_modified))\n",
    "    modified_data.append(x_modified.v)\n",
    "    \n",
    "last_modified_index = i"
   ]
  },
  {
   "cell_type": "markdown",
   "metadata": {},
   "source": [
    "### Inspect the changes in the float values"
   ]
  },
  {
   "cell_type": "code",
   "execution_count": 18,
   "metadata": {},
   "outputs": [],
   "source": [
    "diff = np.array(modified_data) - np.array(data)\n",
    "diff_abs = np.abs(diff)"
   ]
  },
  {
   "cell_type": "code",
   "execution_count": 19,
   "metadata": {},
   "outputs": [
    {
     "data": {
      "image/png": "[encoded data removed]",
      "text/plain": [
       "<Figure size 720x288 with 2 Axes>"
      ]
     },
     "metadata": {
      "needs_background": "light"
     },
     "output_type": "display_data"
    }
   ],
   "source": [
    "fig, axs = plt.subplots(1, 2, figsize=(10, 4))\n",
    "\n",
    "axs[0].hist(diff)\n",
    "axs[0].set_title(\"Difference in float values\")\n",
    "axs[0].set_xlabel(\"Difference\")\n",
    "\n",
    "axs[1].hist(diff_abs)\n",
    "axs[1].set_title(\"Absolute Difference in float values\")\n",
    "axs[1].set_xlabel(\"Absolute Difference\");"
   ]
  },
  {
   "cell_type": "code",
   "execution_count": 20,
   "metadata": {},
   "outputs": [
    {
     "name": "stdout",
     "output_type": "stream",
     "text": [
      "Min diff: 2.0890109642124344e-09\n",
      "Max diff: 1.2646178535025143e-05\n",
      "Mean diff: 2.8639375234277818e-06\n"
     ]
    }
   ],
   "source": [
    "print(f\"Min diff: {diff_abs.min()}\")\n",
    "print(f\"Max diff: {diff_abs.max()}\")\n",
    "print(f\"Mean diff: {diff_abs.mean()}\")"
   ]
  },
  {
   "cell_type": "markdown",
   "metadata": {},
   "source": [
    "## Recover the message from the modified data"
   ]
  },
  {
   "cell_type": "code",
   "execution_count": 21,
   "metadata": {},
   "outputs": [],
   "source": [
    "hidden_data: List[bool] = []\n",
    "\n",
    "for d in modified_data:\n",
    "    # We can take each value and grab the last K bits from its fraction\n",
    "    x = FloatBinary(d)\n",
    "    hidden_bits = x.fraction[-nb_bits_to_modify_from_fraction:]\n",
    "    hidden_data.extend(hidden_bits)"
   ]
  },
  {
   "cell_type": "code",
   "execution_count": 22,
   "metadata": {},
   "outputs": [],
   "source": [
    "recovered_message: str = bits_to_str(list(map(int, hidden_data)))"
   ]
  },
  {
   "cell_type": "code",
   "execution_count": 23,
   "metadata": {},
   "outputs": [
    {
     "name": "stdout",
     "output_type": "stream",
     "text": [
      "Recovered string:\n",
      "'I am Gabor and I want to add this secret to the model. Let's see how it goes, hopefully we can recover the message.'\n"
     ]
    }
   ],
   "source": [
    "print(f\"Recovered string:\\n'{recovered_message}'\")"
   ]
  },
  {
   "cell_type": "code",
   "execution_count": 24,
   "metadata": {},
   "outputs": [
    {
     "name": "stdout",
     "output_type": "stream",
     "text": [
      "Successful secret hiding and recovery! 🥳\n"
     ]
    }
   ],
   "source": [
    "if recovered_message == s_to_hide:\n",
    "    print(\"Successful secret hiding and recovery! 🥳\")\n",
    "else:\n",
    "    print(\"Recovered message is not the same as the original one 🤨\")"
   ]
  }
 ],
 "metadata": {
  "kernelspec": {
   "display_name": "Python 3",
   "language": "python",
   "name": "python3"
  },
  "language_info": {
   "codemirror_mode": {
    "name": "ipython",
    "version": 3
   },
   "file_extension": ".py",
   "mimetype": "text/x-python",
   "name": "python",
   "nbconvert_exporter": "python",
   "pygments_lexer": "ipython3",
   "version": "3.8.5"
  },
  "toc-autonumbering": true
 },
 "nbformat": 4,
 "nbformat_minor": 4
}
