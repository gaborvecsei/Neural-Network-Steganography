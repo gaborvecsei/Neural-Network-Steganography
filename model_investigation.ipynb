{
 "cells": [
  {
   "cell_type": "code",
   "execution_count": 1,
   "metadata": {},
   "outputs": [],
   "source": [
    "%load_ext autoreload\n",
    "%autoreload 2"
   ]
  },
  {
   "cell_type": "code",
   "execution_count": 2,
   "metadata": {},
   "outputs": [
    {
     "name": "stderr",
     "output_type": "stream",
     "text": [
      "Matplotlib created a temporary config/cache directory at /tmp/matplotlib-upc19reo because the default path (/.config/matplotlib) is not a writable directory; it is highly recommended to set the MPLCONFIGDIR environment variable to a writable directory, in particular to speed up the import of Matplotlib and to better support multiprocessing.\n"
     ]
    }
   ],
   "source": [
    "import math\n",
    "from typing import List, Tuple, Dict\n",
    "from pathlib import Path\n",
    "from copy import deepcopy\n",
    "import hashlib\n",
    "import concurrent.futures\n",
    "\n",
    "import numpy as np\n",
    "import tensorflow as tf\n",
    "import matplotlib.pyplot as plt\n",
    "\n",
    "from stego import FloatBinary, str_to_bits, bits_to_str, dummy_data_generator"
   ]
  },
  {
   "cell_type": "markdown",
   "metadata": {},
   "source": [
    "# Steganography with Neural Network Layers\n",
    "\n",
    "In this notebook I test how I can hide secrets in a model's parameters and then investigate how it effects the model's performance. A secret can be anything (text, image, video, software) as long as it can be converted to bytes."
   ]
  },
  {
   "cell_type": "code",
   "execution_count": 3,
   "metadata": {},
   "outputs": [],
   "source": [
    "# How many bits (LSB) to use from the fraction (mantissa) of the float values\n",
    "BITS_TO_USE = 16\n",
    "assert BITS_TO_USE <= 23, \"Can't be bigger then 23 bits\""
   ]
  },
  {
   "cell_type": "code",
   "execution_count": 4,
   "metadata": {},
   "outputs": [],
   "source": [
    "DATA_FOLDER = \"/data\"\n",
    "\n",
    "IMAGES_TO_TEST_ON = list(map(str, Path(DATA_FOLDER).glob(\"**/*.jpg\")))\n",
    "assert len(IMAGES_TO_TEST_ON) > 0, \"You'll need some images to test the network performance\""
   ]
  },
  {
   "cell_type": "markdown",
   "metadata": {},
   "source": [
    "# Load the model"
   ]
  },
  {
   "cell_type": "code",
   "execution_count": 5,
   "metadata": {},
   "outputs": [
    {
     "name": "stderr",
     "output_type": "stream",
     "text": [
      "2022-02-25 15:28:50.699856: I tensorflow/core/platform/cpu_feature_guard.cc:151] This TensorFlow binary is optimized with oneAPI Deep Neural Network Library (oneDNN) to use the following CPU instructions in performance-critical operations:  AVX2 AVX512F FMA\n",
      "To enable them in other operations, rebuild TensorFlow with the appropriate compiler flags.\n",
      "2022-02-25 15:28:51.545033: I tensorflow/core/common_runtime/gpu/gpu_device.cc:1525] Created device /job:localhost/replica:0/task:0/device:GPU:0 with 30983 MB memory:  -> device: 0, name: Tesla V100-SXM2-32GB, pci bus id: 0000:3e:00.0, compute capability: 7.0\n"
     ]
    }
   ],
   "source": [
    "# Any model can be used here\n",
    "model = tf.keras.applications.ResNet50(include_top=True, weights=\"imagenet\")"
   ]
  },
  {
   "cell_type": "markdown",
   "metadata": {},
   "source": [
    "## Data storage capacity of the layers"
   ]
  },
  {
   "cell_type": "code",
   "execution_count": 6,
   "metadata": {},
   "outputs": [],
   "source": [
    "layers_storage_capacity_mb: Dict[str, int] = {}\n",
    "\n",
    "for l in model.layers:\n",
    "    if l.__class__.__name__ == \"Conv2D\":\n",
    "        nb_params = np.prod(l.get_weights()[0].shape)\n",
    "        capacity_in_bytes = np.floor((nb_params * BITS_TO_USE) / 8).astype(int)\n",
    "        layers_storage_capacity_mb[l.name] = capacity_in_bytes / float(1<<20)"
   ]
  },
  {
   "cell_type": "code",
   "execution_count": 7,
   "metadata": {},
   "outputs": [
    {
     "data": {
      "image/png": "[encoded data removed]",
      "text/plain": [
       "<Figure size 720x288 with 1 Axes>"
      ]
     },
     "metadata": {
      "needs_background": "light"
     },
     "output_type": "display_data"
    }
   ],
   "source": [
    "fig, ax = plt.subplots(1, 1, figsize=(10, 4))\n",
    "ax.bar(layers_storage_capacity_mb.keys(), layers_storage_capacity_mb.values())\n",
    "ax.tick_params(axis='x', labelrotation = 90)\n",
    "ax.set_xlabel(\"Layer Name\")\n",
    "ax.set_ylabel(\"Megabytes\")\n",
    "ax.set_title(f\"Storage capacity when using {BITS_TO_USE} bits from every float value\");"
   ]
  },
  {
   "cell_type": "markdown",
   "metadata": {},
   "source": [
    "# Inspect statistics for selected layers"
   ]
  },
  {
   "cell_type": "code",
   "execution_count": 8,
   "metadata": {},
   "outputs": [],
   "source": [
    "# Layers with the most storage capacity\n",
    "# sorted(layers_storage_capacity_mb.items(), key=lambda x: x[1], reverse=True)[:5]"
   ]
  },
  {
   "cell_type": "code",
   "execution_count": 9,
   "metadata": {},
   "outputs": [],
   "source": [
    "# These layers will be modified to hide the secret\n",
    "\n",
    "# Selected layers (manual selection)\n",
    "# layer_names = [\"conv5_block1_2_conv\", \"conv5_block2_2_conv\", \"conv5_block3_2_conv\"]\n",
    "\n",
    "# All the Conv2D layers\n",
    "layer_names = list(layers_storage_capacity_mb.keys())"
   ]
  },
  {
   "cell_type": "code",
   "execution_count": 10,
   "metadata": {},
   "outputs": [],
   "source": [
    "selected_layers_weights = []\n",
    "for n in layer_names:\n",
    "    v = model.get_layer(n).weights[0].numpy().ravel()\n",
    "    selected_layers_weights.extend(v)\n",
    "selected_layers_weights = np.array(selected_layers_weights)"
   ]
  },
  {
   "cell_type": "markdown",
   "metadata": {},
   "source": [
    "## Basic statistics"
   ]
  },
  {
   "cell_type": "code",
   "execution_count": 11,
   "metadata": {},
   "outputs": [],
   "source": [
    "nb_values = len(selected_layers_weights)\n",
    "min_value = selected_layers_weights.min()\n",
    "abs_min_value = np.abs(selected_layers_weights).min()\n",
    "max_value = selected_layers_weights.max()\n",
    "mean_value = selected_layers_weights.mean()\n",
    "nb_really_small_values = (abs(selected_layers_weights) < 10e-4).sum()\n",
    "nb_small_values = (abs(selected_layers_weights) < 10e-3).sum()\n",
    "nb_negative_values = (selected_layers_weights < 0).sum()\n",
    "nb_positive_values = (selected_layers_weights > 0).sum()\n",
    "overall_storage_capacity_bytes = nb_values * BITS_TO_USE / 8\n",
    "overall_storage_capacity_mb = overall_storage_capacity_bytes // float(1<<20)"
   ]
  },
  {
   "cell_type": "code",
   "execution_count": 12,
   "metadata": {},
   "outputs": [
    {
     "name": "stdout",
     "output_type": "stream",
     "text": [
      "Stats for ['conv1_conv', 'conv2_block1_1_conv', 'conv2_block1_2_conv', 'conv2_block1_0_conv', 'conv2_block1_3_conv', 'conv2_block2_1_conv', 'conv2_block2_2_conv', 'conv2_block2_3_conv', 'conv2_block3_1_conv', 'conv2_block3_2_conv', 'conv2_block3_3_conv', 'conv3_block1_1_conv', 'conv3_block1_2_conv', 'conv3_block1_0_conv', 'conv3_block1_3_conv', 'conv3_block2_1_conv', 'conv3_block2_2_conv', 'conv3_block2_3_conv', 'conv3_block3_1_conv', 'conv3_block3_2_conv', 'conv3_block3_3_conv', 'conv3_block4_1_conv', 'conv3_block4_2_conv', 'conv3_block4_3_conv', 'conv4_block1_1_conv', 'conv4_block1_2_conv', 'conv4_block1_0_conv', 'conv4_block1_3_conv', 'conv4_block2_1_conv', 'conv4_block2_2_conv', 'conv4_block2_3_conv', 'conv4_block3_1_conv', 'conv4_block3_2_conv', 'conv4_block3_3_conv', 'conv4_block4_1_conv', 'conv4_block4_2_conv', 'conv4_block4_3_conv', 'conv4_block5_1_conv', 'conv4_block5_2_conv', 'conv4_block5_3_conv', 'conv4_block6_1_conv', 'conv4_block6_2_conv', 'conv4_block6_3_conv', 'conv5_block1_1_conv', 'conv5_block1_2_conv', 'conv5_block1_0_conv', 'conv5_block1_3_conv', 'conv5_block2_1_conv', 'conv5_block2_2_conv', 'conv5_block2_3_conv', 'conv5_block3_1_conv', 'conv5_block3_2_conv', 'conv5_block3_3_conv']\n",
      "---\n",
      "Min: -0.7719802856445312\n",
      "Abs. Min 8.192913014681835e-10\n",
      "Max: 0.9003667831420898\n",
      "Mean: -0.0007807782967574894\n",
      "---\n",
      "Nb total values: 23454912\n",
      "Nb values < 10e-4: 1486452 - 6.3375%\n",
      "Nb values < 10e-3: 13138630 - 56.0165%\n",
      "Nb negatives: 12746193 - 54.3434%\n",
      "Nb positives: 10708719 - 45.6566%\n",
      "---\n",
      "(Maximum) Storage capacity is 44.0 MB for the 53 layers with the 16 bits modification\n",
      "\n"
     ]
    }
   ],
   "source": [
    "print(f\"\"\"Stats for {layer_names}\n",
    "---\n",
    "Min: {min_value}\n",
    "Abs. Min {abs_min_value}\n",
    "Max: {max_value}\n",
    "Mean: {mean_value}\n",
    "---\n",
    "Nb total values: {nb_values}\n",
    "Nb values < 10e-4: {nb_really_small_values} - {nb_really_small_values/nb_values*100:.4f}%\n",
    "Nb values < 10e-3: {nb_small_values} - {nb_small_values/nb_values*100:.4f}%\n",
    "Nb negatives: {nb_negative_values} - {nb_negative_values/nb_values*100:.4f}%\n",
    "Nb positives: {nb_positive_values} - {nb_positive_values/nb_values*100:.4f}%\n",
    "---\n",
    "(Maximum) Storage capacity is {overall_storage_capacity_mb} MB for the {len(layer_names)} layers with the {BITS_TO_USE} bits modification\n",
    "\"\"\")"
   ]
  },
  {
   "cell_type": "markdown",
   "metadata": {},
   "source": [
    "# Hide a secret in the layer"
   ]
  },
  {
   "cell_type": "markdown",
   "metadata": {},
   "source": [
    "## The secret"
   ]
  },
  {
   "cell_type": "code",
   "execution_count": 13,
   "metadata": {},
   "outputs": [],
   "source": [
    "# secret_to_hide = \"I am Gabor and I would like to hide this message\"\n",
    "secret_to_hide = dummy_data_generator.generate_dummy_data(overall_storage_capacity_bytes)\n",
    "secret_bits = str_to_bits(secret_to_hide)"
   ]
  },
  {
   "cell_type": "code",
   "execution_count": 14,
   "metadata": {},
   "outputs": [],
   "source": [
    "nb_vals_needed = math.ceil(len(secret_bits) / BITS_TO_USE)"
   ]
  },
  {
   "cell_type": "code",
   "execution_count": 15,
   "metadata": {},
   "outputs": [
    {
     "name": "stdout",
     "output_type": "stream",
     "text": [
      "We need 23454912 float values to store the info\n",
      "Overall number of values we could use: 23454912\n"
     ]
    }
   ],
   "source": [
    "print(f\"We need {nb_vals_needed} float values to store the info\\nOverall number of values we could use: {nb_values}\")"
   ]
  },
  {
   "cell_type": "markdown",
   "metadata": {},
   "source": [
    "## Hide it"
   ]
  },
  {
   "cell_type": "markdown",
   "metadata": {},
   "source": [
    "### Store the original weights"
   ]
  },
  {
   "cell_type": "code",
   "execution_count": 16,
   "metadata": {},
   "outputs": [],
   "source": [
    "# This dict holds the original weights for the selected layers\n",
    "original_weights_dict: dict = {}\n",
    "for n in layer_names:\n",
    "    original_weights_dict[n] = deepcopy(model.get_layer(n).weights[0].numpy())"
   ]
  },
  {
   "cell_type": "markdown",
   "metadata": {},
   "source": [
    "### Create the modified ones"
   ]
  },
  {
   "cell_type": "code",
   "execution_count": 17,
   "metadata": {},
   "outputs": [
    {
     "name": "stdout",
     "output_type": "stream",
     "text": [
      "Layer conv1_conv is processed, last index modified: 9407\n",
      "Layer conv2_block1_1_conv is processed, last index modified: 4095\n",
      "Layer conv2_block1_2_conv is processed, last index modified: 36863\n",
      "Layer conv2_block1_0_conv is processed, last index modified: 16383\n",
      "Layer conv2_block1_3_conv is processed, last index modified: 16383\n",
      "Layer conv2_block2_1_conv is processed, last index modified: 16383\n",
      "Layer conv2_block2_2_conv is processed, last index modified: 36863\n",
      "Layer conv2_block2_3_conv is processed, last index modified: 16383\n",
      "Layer conv2_block3_1_conv is processed, last index modified: 16383\n",
      "Layer conv2_block3_2_conv is processed, last index modified: 36863\n",
      "Layer conv2_block3_3_conv is processed, last index modified: 16383\n",
      "Layer conv3_block1_1_conv is processed, last index modified: 32767\n",
      "Layer conv3_block1_2_conv is processed, last index modified: 147455\n",
      "Layer conv3_block1_0_conv is processed, last index modified: 131071\n",
      "Layer conv3_block1_3_conv is processed, last index modified: 65535\n",
      "Layer conv3_block2_1_conv is processed, last index modified: 65535\n",
      "Layer conv3_block2_2_conv is processed, last index modified: 147455\n",
      "Layer conv3_block2_3_conv is processed, last index modified: 65535\n",
      "Layer conv3_block3_1_conv is processed, last index modified: 65535\n",
      "Layer conv3_block3_2_conv is processed, last index modified: 147455\n",
      "Layer conv3_block3_3_conv is processed, last index modified: 65535\n",
      "Layer conv3_block4_1_conv is processed, last index modified: 65535\n",
      "Layer conv3_block4_2_conv is processed, last index modified: 147455\n",
      "Layer conv3_block4_3_conv is processed, last index modified: 65535\n",
      "Layer conv4_block1_1_conv is processed, last index modified: 131071\n",
      "Layer conv4_block1_2_conv is processed, last index modified: 589823\n",
      "Layer conv4_block1_0_conv is processed, last index modified: 524287\n",
      "Layer conv4_block1_3_conv is processed, last index modified: 262143\n",
      "Layer conv4_block2_1_conv is processed, last index modified: 262143\n",
      "Layer conv4_block2_2_conv is processed, last index modified: 589823\n",
      "Layer conv4_block2_3_conv is processed, last index modified: 262143\n",
      "Layer conv4_block3_1_conv is processed, last index modified: 262143\n",
      "Layer conv4_block3_2_conv is processed, last index modified: 589823\n",
      "Layer conv4_block3_3_conv is processed, last index modified: 262143\n",
      "Layer conv4_block4_1_conv is processed, last index modified: 262143\n",
      "Layer conv4_block4_2_conv is processed, last index modified: 589823\n",
      "Layer conv4_block4_3_conv is processed, last index modified: 262143\n",
      "Layer conv4_block5_1_conv is processed, last index modified: 262143\n",
      "Layer conv4_block5_2_conv is processed, last index modified: 589823\n",
      "Layer conv4_block5_3_conv is processed, last index modified: 262143\n",
      "Layer conv4_block6_1_conv is processed, last index modified: 262143\n",
      "Layer conv4_block6_2_conv is processed, last index modified: 589823\n",
      "Layer conv4_block6_3_conv is processed, last index modified: 262143\n",
      "Layer conv5_block1_1_conv is processed, last index modified: 524287\n",
      "Layer conv5_block1_2_conv is processed, last index modified: 2359295\n",
      "Layer conv5_block1_0_conv is processed, last index modified: 2097151\n",
      "Layer conv5_block1_3_conv is processed, last index modified: 1048575\n",
      "Layer conv5_block2_1_conv is processed, last index modified: 1048575\n",
      "Layer conv5_block2_2_conv is processed, last index modified: 2359295\n",
      "Layer conv5_block2_3_conv is processed, last index modified: 1048575\n",
      "Layer conv5_block3_1_conv is processed, last index modified: 1048575\n",
      "Layer conv5_block3_2_conv is processed, last index modified: 2359295\n",
      "Layer conv5_block3_3_conv is processed, last index modified: 1048575\n"
     ]
    }
   ],
   "source": [
    "# This dict will hold the modified (secret hidden) weights for the layers\n",
    "modified_weights_dict = deepcopy(original_weights_dict)\n",
    "# Index of the last value used in a layer - this is needed because we don't necessary need\n",
    "# the same number of params for hiding some bits then all the layer parameters\n",
    "last_index_used_in_layer_dict: dict = {}\n",
    "\n",
    "# We are modifying the layers in a defined order to know what was changed exactly\n",
    "# This order is needed when we would like to recover the message\n",
    "\n",
    "# Variable which tracks the number of values changed so far (used to index the secret message bits)\n",
    "i = 0\n",
    "\n",
    "for n in layer_names:\n",
    "    # Check if we need more values to use to hide the secret, if not then we are done with modifying the layer's weights\n",
    "    if i >= nb_vals_needed:\n",
    "        break\n",
    "\n",
    "    w = modified_weights_dict[n]\n",
    "    w_shape = w.shape\n",
    "    w = w.ravel()\n",
    "\n",
    "    nb_params_in_layer: int = np.prod(w.shape)\n",
    "\n",
    "    for j in range(nb_params_in_layer):\n",
    "        # Chunk of data from the secret to hide\n",
    "        _from_index = i * BITS_TO_USE\n",
    "        _to_index = _from_index + BITS_TO_USE\n",
    "        bits_to_hide = secret_bits[_from_index:_to_index]\n",
    "        bits_to_hide = list(map(bool, bits_to_hide))\n",
    "\n",
    "        # Modify the defined bits of the float value fraction\n",
    "        x = FloatBinary(w[j])\n",
    "        fraction_modified = list(x.fraction)\n",
    "        if len(bits_to_hide) > 0:\n",
    "            fraction_modified[-BITS_TO_USE:] = bits_to_hide\n",
    "\n",
    "        x_modified = x.modify_clone(fraction=tuple(fraction_modified))\n",
    "        w[j] = x_modified.v\n",
    "\n",
    "        i += 1\n",
    "        \n",
    "        # Check if we need more values to use to hide the secret in the current layer, if not then we are done\n",
    "        if i >= nb_vals_needed:\n",
    "            break\n",
    "\n",
    "    last_index_used_in_layer_dict[n] = j\n",
    "    w = w.reshape(w_shape)\n",
    "    modified_weights_dict[n] = w\n",
    "\n",
    "    print(f\"Layer {n} is processed, last index modified: {j}\")"
   ]
  },
  {
   "cell_type": "markdown",
   "metadata": {},
   "source": [
    "# Let's test the network and inspect the outputs"
   ]
  },
  {
   "cell_type": "markdown",
   "metadata": {},
   "source": [
    "## Dataset to test on"
   ]
  },
  {
   "cell_type": "code",
   "execution_count": 18,
   "metadata": {},
   "outputs": [
    {
     "name": "stdout",
     "output_type": "stream",
     "text": [
      "Number of images will be used for testing: 14241\n"
     ]
    }
   ],
   "source": [
    "print(f\"Number of images will be used for testing: {len(IMAGES_TO_TEST_ON)}\")"
   ]
  },
  {
   "cell_type": "code",
   "execution_count": 19,
   "metadata": {},
   "outputs": [],
   "source": [
    "batch_size = 8"
   ]
  },
  {
   "cell_type": "code",
   "execution_count": 20,
   "metadata": {},
   "outputs": [],
   "source": [
    "def _read_image_from_path(image_path):\n",
    "    image = tf.io.read_file(image_path)\n",
    "    image = tf.image.decode_image(image, channels=3, dtype=tf.uint8, expand_animations=False)\n",
    "    image = tf.image.resize(image, (224, 224))\n",
    "    return image\n",
    "\n",
    "dataset = tf.data.Dataset.from_tensor_slices(IMAGES_TO_TEST_ON)\n",
    "dataset = dataset.map(_read_image_from_path, num_parallel_calls=tf.data.AUTOTUNE)\n",
    "dataset = dataset.batch(batch_size).prefetch(tf.data.AUTOTUNE)"
   ]
  },
  {
   "cell_type": "markdown",
   "metadata": {},
   "source": [
    "## Predictions made by the model"
   ]
  },
  {
   "cell_type": "markdown",
   "metadata": {},
   "source": [
    "### Original weights predictions"
   ]
  },
  {
   "cell_type": "code",
   "execution_count": 21,
   "metadata": {},
   "outputs": [],
   "source": [
    "# Load the original weights to the model layers\n",
    "for n in layer_names:\n",
    "    w = original_weights_dict[n]\n",
    "    model.get_layer(n).set_weights([w, model.get_layer(n).get_weights()[1]])"
   ]
  },
  {
   "cell_type": "code",
   "execution_count": 22,
   "metadata": {},
   "outputs": [
    {
     "name": "stderr",
     "output_type": "stream",
     "text": [
      "2022-02-25 15:37:11.971562: I tensorflow/stream_executor/cuda/cuda_dnn.cc:366] Loaded cuDNN version 8100\n"
     ]
    }
   ],
   "source": [
    "preds_original = model.predict(dataset)"
   ]
  },
  {
   "cell_type": "markdown",
   "metadata": {},
   "source": [
    "### Modified weights predictions"
   ]
  },
  {
   "cell_type": "code",
   "execution_count": 23,
   "metadata": {},
   "outputs": [],
   "source": [
    "# Load the modified (secret is hidden) weights to the model layers\n",
    "for n in layer_names:\n",
    "    w = modified_weights_dict[n]\n",
    "    model.get_layer(n).set_weights([w, model.get_layer(n).get_weights()[1]])"
   ]
  },
  {
   "cell_type": "code",
   "execution_count": 24,
   "metadata": {},
   "outputs": [],
   "source": [
    "preds_modified = model.predict(dataset)"
   ]
  },
  {
   "cell_type": "markdown",
   "metadata": {},
   "source": [
    "## Differences in predictions"
   ]
  },
  {
   "cell_type": "markdown",
   "metadata": {},
   "source": [
    "### Raw prediction value comparisons (last layer output)"
   ]
  },
  {
   "cell_type": "code",
   "execution_count": 25,
   "metadata": {},
   "outputs": [],
   "source": [
    "diff_abs = np.abs(preds_original - preds_modified).ravel()"
   ]
  },
  {
   "cell_type": "code",
   "execution_count": 26,
   "metadata": {},
   "outputs": [
    {
     "data": {
      "image/png": "[encoded data removed]",
      "text/plain": [
       "<Figure size 432x288 with 1 Axes>"
      ]
     },
     "metadata": {
      "needs_background": "light"
     },
     "output_type": "display_data"
    }
   ],
   "source": [
    "plt.hist(diff_abs[diff_abs > 0]);"
   ]
  },
  {
   "cell_type": "code",
   "execution_count": 27,
   "metadata": {},
   "outputs": [
    {
     "name": "stdout",
     "output_type": "stream",
     "text": [
      "Min abs difference: 0.0\n",
      "Max abs difference: 0.11202079057693481\n",
      "Number of changed prediction values: 14240972 / 14241000 | 99.9998%\n"
     ]
    }
   ],
   "source": [
    "print(f\"Min abs difference: {diff_abs.min()}\")\n",
    "print(f\"Max abs difference: {diff_abs.max()}\")\n",
    "print(f\"Number of changed prediction values: {(diff_abs > 0).sum()} / {len(diff_abs)} | {(diff_abs > 0).sum()/len(diff_abs)*100:.4f}%\")"
   ]
  },
  {
   "cell_type": "markdown",
   "metadata": {},
   "source": [
    "### Change in predicted labels"
   ]
  },
  {
   "cell_type": "code",
   "execution_count": 28,
   "metadata": {},
   "outputs": [],
   "source": [
    "nb_changed_pred_labels = ((np.argmax(preds_original, 1) - np.argmax(preds_modified, 1)) > 0).sum()"
   ]
  },
  {
   "cell_type": "code",
   "execution_count": 29,
   "metadata": {},
   "outputs": [
    {
     "name": "stdout",
     "output_type": "stream",
     "text": [
      "Changed number of predictions: 146 / 14241 | 1.0252089038691103%\n"
     ]
    }
   ],
   "source": [
    "print(f\"Changed number of predictions: {nb_changed_pred_labels} / {len(IMAGES_TO_TEST_ON)} | {nb_changed_pred_labels / len(IMAGES_TO_TEST_ON)*100}%\")"
   ]
  },
  {
   "cell_type": "markdown",
   "metadata": {},
   "source": [
    "# Recover the secret\n",
    "\n",
    "For recovering the secret we only need to know the layer names/indices in the model and the bits which we used for the \"encoding\".\n",
    "\n",
    "(And of course in a real life scenario we need direct access to the model's weights 😉)"
   ]
  },
  {
   "cell_type": "code",
   "execution_count": 30,
   "metadata": {},
   "outputs": [
    {
     "name": "stdout",
     "output_type": "stream",
     "text": [
      "Layer conv1_conv is processed, bits are extracted\n",
      "Layer conv2_block1_1_conv is processed, bits are extracted\n",
      "Layer conv2_block1_2_conv is processed, bits are extracted\n",
      "Layer conv2_block1_0_conv is processed, bits are extracted\n",
      "Layer conv2_block1_3_conv is processed, bits are extracted\n",
      "Layer conv2_block2_1_conv is processed, bits are extracted\n",
      "Layer conv2_block2_2_conv is processed, bits are extracted\n",
      "Layer conv2_block2_3_conv is processed, bits are extracted\n",
      "Layer conv2_block3_1_conv is processed, bits are extracted\n",
      "Layer conv2_block3_2_conv is processed, bits are extracted\n",
      "Layer conv2_block3_3_conv is processed, bits are extracted\n",
      "Layer conv3_block1_1_conv is processed, bits are extracted\n",
      "Layer conv3_block1_2_conv is processed, bits are extracted\n",
      "Layer conv3_block1_0_conv is processed, bits are extracted\n",
      "Layer conv3_block1_3_conv is processed, bits are extracted\n",
      "Layer conv3_block2_1_conv is processed, bits are extracted\n",
      "Layer conv3_block2_2_conv is processed, bits are extracted\n",
      "Layer conv3_block2_3_conv is processed, bits are extracted\n",
      "Layer conv3_block3_1_conv is processed, bits are extracted\n",
      "Layer conv3_block3_2_conv is processed, bits are extracted\n",
      "Layer conv3_block3_3_conv is processed, bits are extracted\n",
      "Layer conv3_block4_1_conv is processed, bits are extracted\n",
      "Layer conv3_block4_2_conv is processed, bits are extracted\n",
      "Layer conv3_block4_3_conv is processed, bits are extracted\n",
      "Layer conv4_block1_1_conv is processed, bits are extracted\n",
      "Layer conv4_block1_2_conv is processed, bits are extracted\n",
      "Layer conv4_block1_0_conv is processed, bits are extracted\n",
      "Layer conv4_block1_3_conv is processed, bits are extracted\n",
      "Layer conv4_block2_1_conv is processed, bits are extracted\n",
      "Layer conv4_block2_2_conv is processed, bits are extracted\n",
      "Layer conv4_block2_3_conv is processed, bits are extracted\n",
      "Layer conv4_block3_1_conv is processed, bits are extracted\n",
      "Layer conv4_block3_2_conv is processed, bits are extracted\n",
      "Layer conv4_block3_3_conv is processed, bits are extracted\n",
      "Layer conv4_block4_1_conv is processed, bits are extracted\n",
      "Layer conv4_block4_2_conv is processed, bits are extracted\n",
      "Layer conv4_block4_3_conv is processed, bits are extracted\n",
      "Layer conv4_block5_1_conv is processed, bits are extracted\n",
      "Layer conv4_block5_2_conv is processed, bits are extracted\n",
      "Layer conv4_block5_3_conv is processed, bits are extracted\n",
      "Layer conv4_block6_1_conv is processed, bits are extracted\n",
      "Layer conv4_block6_2_conv is processed, bits are extracted\n",
      "Layer conv4_block6_3_conv is processed, bits are extracted\n",
      "Layer conv5_block1_1_conv is processed, bits are extracted\n",
      "Layer conv5_block1_2_conv is processed, bits are extracted\n",
      "Layer conv5_block1_0_conv is processed, bits are extracted\n",
      "Layer conv5_block1_3_conv is processed, bits are extracted\n",
      "Layer conv5_block2_1_conv is processed, bits are extracted\n",
      "Layer conv5_block2_2_conv is processed, bits are extracted\n",
      "Layer conv5_block2_3_conv is processed, bits are extracted\n",
      "Layer conv5_block3_1_conv is processed, bits are extracted\n",
      "Layer conv5_block3_2_conv is processed, bits are extracted\n",
      "Layer conv5_block3_3_conv is processed, bits are extracted\n"
     ]
    }
   ],
   "source": [
    "# We store the extracted bits of data here\n",
    "hidden_data: List[bool] = []\n",
    "\n",
    "for n in layer_names:\n",
    "    # Check if the layer was used in hiding the secret or not (e.g.: we could hide the secret in the prev. layers)\n",
    "    if n not in last_index_used_in_layer_dict.keys():\n",
    "        continue\n",
    "    \n",
    "    # We could get the modified weights directly from the model: model.get_layer(n).get_weights()...\n",
    "    w = modified_weights_dict[n]\n",
    "    w_shape = w.shape\n",
    "    w = w.ravel()\n",
    "    \n",
    "    nb_params_in_layer: int = np.prod(w.shape)\n",
    "    \n",
    "    for i in range(last_index_used_in_layer_dict[n]+1):\n",
    "        x = FloatBinary(w[i])\n",
    "        hidden_bits = x.fraction[-BITS_TO_USE:]\n",
    "        hidden_data.extend(hidden_bits)\n",
    "        \n",
    "    print(f\"Layer {n} is processed, bits are extracted\")"
   ]
  },
  {
   "cell_type": "code",
   "execution_count": 31,
   "metadata": {},
   "outputs": [],
   "source": [
    "recovered_message: str = bits_to_str(list(map(int, hidden_data)))"
   ]
  },
  {
   "cell_type": "code",
   "execution_count": 32,
   "metadata": {},
   "outputs": [
    {
     "name": "stdout",
     "output_type": "stream",
     "text": [
      "--Original string:--\n",
      "'@OrlE33Ul1V %quL{_zs)>zOCp.45|T]p$ynTd++*^B\n",
      "h3~:mu}G\u000b",
      "\tw|\f",
      "9-@%#N_\f",
      "chN<r\"L43S;5Q{)=3Kiq}k\"r=4NoG2Cw#g*...'\n",
      "--Recovered string:--\n",
      "'@OrlE33Ul1V %quL{_zs)>zOCp.45|T]p$ynTd++*^B\n",
      "h3~:mu}G\u000b",
      "\tw|\f",
      "9-@%#N_\f",
      "chN<r\"L43S;5Q{)=3Kiq}k\"r=4NoG2Cw#g*...'\n"
     ]
    }
   ],
   "source": [
    "chars_to_display = 100\n",
    "print(f\"--Original string:--\\n'{secret_to_hide[:chars_to_display]}...'\")\n",
    "print(f\"--Recovered string:--\\n'{recovered_message[:chars_to_display]}...'\")"
   ]
  },
  {
   "cell_type": "code",
   "execution_count": 33,
   "metadata": {},
   "outputs": [],
   "source": [
    "def hash_str(s: str) -> str:\n",
    "    return hashlib.md5(s.encode(\"ascii\")).hexdigest()"
   ]
  },
  {
   "cell_type": "code",
   "execution_count": 34,
   "metadata": {},
   "outputs": [
    {
     "name": "stdout",
     "output_type": "stream",
     "text": [
      "Successful secret hiding and recovery! 🥳\n"
     ]
    }
   ],
   "source": [
    "if hash_str(recovered_message) == hash_str(secret_to_hide):\n",
    "    print(\"Successful secret hiding and recovery! 🥳\")\n",
    "else:\n",
    "    print(\"Recovered message is not the same as the original one 🤨\")"
   ]
  }
 ],
 "metadata": {
  "kernelspec": {
   "display_name": "Python 3 (ipykernel)",
   "language": "python",
   "name": "python3"
  },
  "language_info": {
   "codemirror_mode": {
    "name": "ipython",
    "version": 3
   },
   "file_extension": ".py",
   "mimetype": "text/x-python",
   "name": "python",
   "nbconvert_exporter": "python",
   "pygments_lexer": "ipython3",
   "version": "3.8.10"
  },
  "toc-autonumbering": true
 },
 "nbformat": 4,
 "nbformat_minor": 4
}
