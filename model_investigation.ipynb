{
 "cells": [
  {
   "cell_type": "code",
   "execution_count": 1,
   "metadata": {},
   "outputs": [],
   "source": [
    "import math\n",
    "from typing import List, Tuple\n",
    "from pathlib import Path\n",
    "from copy import deepcopy\n",
    "\n",
    "import numpy as np\n",
    "import tensorflow as tf\n",
    "import matplotlib.pyplot as plt\n",
    "\n",
    "from stego import FloatBinary, str_to_bits, bits_to_str"
   ]
  },
  {
   "cell_type": "markdown",
   "metadata": {},
   "source": [
    "# Load the model"
   ]
  },
  {
   "cell_type": "code",
   "execution_count": 2,
   "metadata": {},
   "outputs": [],
   "source": [
    "model = tf.keras.applications.ResNet50(include_top=True, weights=\"imagenet\")"
   ]
  },
  {
   "cell_type": "code",
   "execution_count": 3,
   "metadata": {},
   "outputs": [],
   "source": [
    "# model.summary()"
   ]
  },
  {
   "cell_type": "markdown",
   "metadata": {},
   "source": [
    "# Inspect statistics for selected layer"
   ]
  },
  {
   "cell_type": "code",
   "execution_count": 4,
   "metadata": {},
   "outputs": [],
   "source": [
    "layer_name = \"conv5_block3_3_conv\""
   ]
  },
  {
   "cell_type": "code",
   "execution_count": 5,
   "metadata": {},
   "outputs": [],
   "source": [
    "selected_layer_weights = model.get_layer(layer_name).weights[0].numpy().ravel()"
   ]
  },
  {
   "cell_type": "markdown",
   "metadata": {},
   "source": [
    "## Basic statistics"
   ]
  },
  {
   "cell_type": "code",
   "execution_count": 6,
   "metadata": {},
   "outputs": [],
   "source": [
    "nb_values = len(selected_layer_weights)\n",
    "min_value = selected_layer_weights.min()\n",
    "max_value = selected_layer_weights.max()\n",
    "mean_value = selected_layer_weights.mean()\n",
    "nb_really_small_values = (abs(selected_layer_weights) < 10e-4).sum()\n",
    "nb_small_values = (abs(selected_layer_weights) < 10e-3).sum()\n",
    "nb_negative_values = (selected_layer_weights < 0).sum()\n",
    "nb_positive_values = (selected_layer_weights > 0).sum()"
   ]
  },
  {
   "cell_type": "code",
   "execution_count": 7,
   "metadata": {},
   "outputs": [
    {
     "name": "stdout",
     "output_type": "stream",
     "text": [
      "Stats for conv5_block3_3_conv\n",
      "---\n",
      "Min: -0.1346323937177658\n",
      "Max: 0.29996708035469055\n",
      "Mean: -0.0004575058992486447\n",
      "---\n",
      "Nb total values: 1048576\n",
      "Nb values < 10e-4: 65063 - 6.2049%\n",
      "Nb values < 10e-3: 583922 - 55.6871%\n",
      "Nb negatives: 582856 - 55.5855%\n",
      "Nb positives: 465720 - 44.4145%\n",
      "\n"
     ]
    }
   ],
   "source": [
    "print(f\"\"\"Stats for {layer_name}\n",
    "---\n",
    "Min: {min_value}\n",
    "Max: {max_value}\n",
    "Mean: {mean_value}\n",
    "---\n",
    "Nb total values: {nb_values}\n",
    "Nb values < 10e-4: {nb_really_small_values} - {nb_really_small_values/nb_values*100:.4f}%\n",
    "Nb values < 10e-3: {nb_small_values} - {nb_small_values/nb_values*100:.4f}%\n",
    "Nb negatives: {nb_negative_values} - {nb_negative_values/nb_values*100:.4f}%\n",
    "Nb positives: {nb_positive_values} - {nb_positive_values/nb_values*100:.4f}%\n",
    "\"\"\")"
   ]
  },
  {
   "cell_type": "code",
   "execution_count": 8,
   "metadata": {},
   "outputs": [
    {
     "data": {
      "image/png": "[encoded data removed]",
      "text/plain": [
       "<Figure size 432x288 with 1 Axes>"
      ]
     },
     "metadata": {
      "needs_background": "light"
     },
     "output_type": "display_data"
    }
   ],
   "source": [
    "plt.hist(selected_layer_weights)\n",
    "plt.title(f\"{layer_name} weights\");"
   ]
  },
  {
   "cell_type": "markdown",
   "metadata": {},
   "source": [
    "## How much data can be hidden in the layer weights?"
   ]
  },
  {
   "cell_type": "code",
   "execution_count": 9,
   "metadata": {},
   "outputs": [],
   "source": [
    "# Bits to use from the fraction of the float values (with bigger values you lose more precision)\n",
    "bits_to_use: int = 16\n",
    "assert bits_to_use <= 23, \"Can't be bigger then 23 bits\""
   ]
  },
  {
   "cell_type": "code",
   "execution_count": 10,
   "metadata": {},
   "outputs": [
    {
     "name": "stdout",
     "output_type": "stream",
     "text": [
      "Mumber of params (float32 values): 1048576\n",
      "Maximum storage in layer: 2.10 MB\n"
     ]
    }
   ],
   "source": [
    "print(f\"Mumber of params (float32 values): {len(selected_layer_weights)}\")\n",
    "print(f\"Maximum storage in layer: {(len(selected_layer_weights) * bits_to_use) / 8000 / 1000:.2f} MB\")"
   ]
  },
  {
   "cell_type": "markdown",
   "metadata": {},
   "source": [
    "# Hide a secret in the layer"
   ]
  },
  {
   "cell_type": "markdown",
   "metadata": {},
   "source": [
    "## The secret"
   ]
  },
  {
   "cell_type": "code",
   "execution_count": 11,
   "metadata": {},
   "outputs": [],
   "source": [
    "secret_to_hide = \"I am Gabor and I would like to hide this message\"\n",
    "secret_bits = str_to_bits(secret_to_hide)"
   ]
  },
  {
   "cell_type": "code",
   "execution_count": 12,
   "metadata": {},
   "outputs": [],
   "source": [
    "nb_vals_needed = math.ceil(len(secret_bits) / bits_to_use)"
   ]
  },
  {
   "cell_type": "markdown",
   "metadata": {},
   "source": [
    "## Hide it"
   ]
  },
  {
   "cell_type": "code",
   "execution_count": 13,
   "metadata": {},
   "outputs": [],
   "source": [
    "weights = deepcopy(model.get_layer(layer_name).weights[0].numpy())\n",
    "weights_shape = weights.shape\n",
    "# For easier processing...\n",
    "weights = weights.ravel()"
   ]
  },
  {
   "cell_type": "code",
   "execution_count": 14,
   "metadata": {},
   "outputs": [],
   "source": [
    "weights_modified = deepcopy(weights)\n",
    "last_modified_index:int = -1\n",
    "\n",
    "for i in range(nb_vals_needed):\n",
    "    _from_index = i * bits_to_use\n",
    "    _to_index = _from_index + bits_to_use\n",
    "    bits_to_hide = secret_bits[_from_index:_to_index]\n",
    "    bits_to_hide = list(map(bool, bits_to_hide))\n",
    "    \n",
    "    x = FloatBinary(weights[i])\n",
    "    \n",
    "    fraction_modified = list(x.fraction)\n",
    "    fraction_modified[-bits_to_use:] = bits_to_hide\n",
    "    x_modified = x.modify_clone(fraction=tuple(fraction_modified))\n",
    "    \n",
    "    weights_modified[i] = x_modified.v\n",
    "    \n",
    "    last_modified_index = i"
   ]
  },
  {
   "cell_type": "code",
   "execution_count": 15,
   "metadata": {},
   "outputs": [
    {
     "data": {
      "text/plain": [
       "(24, 24, 23)"
      ]
     },
     "execution_count": 15,
     "metadata": {},
     "output_type": "execute_result"
    }
   ],
   "source": [
    "# Debugging\n",
    "nb_vals_needed, (np.abs((weights - weights_modified)) > 0).sum(), last_modified_index"
   ]
  },
  {
   "cell_type": "markdown",
   "metadata": {},
   "source": [
    "# Let's test the network"
   ]
  },
  {
   "cell_type": "markdown",
   "metadata": {},
   "source": [
    "## Dataset to test on"
   ]
  },
  {
   "cell_type": "code",
   "execution_count": 16,
   "metadata": {},
   "outputs": [],
   "source": [
    "image_paths = list(map(str, Path(\"/tmp/images\").glob(\"**/*.jpeg\")))"
   ]
  },
  {
   "cell_type": "code",
   "execution_count": 17,
   "metadata": {},
   "outputs": [
    {
     "data": {
      "text/plain": [
       "566"
      ]
     },
     "execution_count": 17,
     "metadata": {},
     "output_type": "execute_result"
    }
   ],
   "source": [
    "len(image_paths)"
   ]
  },
  {
   "cell_type": "code",
   "execution_count": 18,
   "metadata": {},
   "outputs": [],
   "source": [
    "batch_size = 1"
   ]
  },
  {
   "cell_type": "code",
   "execution_count": 19,
   "metadata": {},
   "outputs": [],
   "source": [
    "def _read_image_from_path(image_path):\n",
    "    image = tf.io.read_file(image_path)\n",
    "    image = tf.image.decode_image(image, channels=3, dtype=tf.uint8, expand_animations=False)\n",
    "    image = tf.image.resize(image, (224, 224))\n",
    "    return image\n",
    "\n",
    "dataset = tf.data.Dataset.from_tensor_slices(image_paths)\n",
    "dataset = dataset.map(_read_image_from_path, num_parallel_calls=tf.data.AUTOTUNE)\n",
    "dataset = dataset.batch(batch_size).prefetch(tf.data.AUTOTUNE)"
   ]
  },
  {
   "cell_type": "markdown",
   "metadata": {},
   "source": [
    "## Predictions"
   ]
  },
  {
   "cell_type": "markdown",
   "metadata": {},
   "source": [
    "### Original weights predictions"
   ]
  },
  {
   "cell_type": "code",
   "execution_count": 20,
   "metadata": {},
   "outputs": [],
   "source": [
    "model.get_layer(layer_name).set_weights([weights.reshape(weights_shape), model.get_layer(layer_name).get_weights()[1]])"
   ]
  },
  {
   "cell_type": "code",
   "execution_count": 21,
   "metadata": {},
   "outputs": [],
   "source": [
    "preds_original = model.predict(dataset)"
   ]
  },
  {
   "cell_type": "markdown",
   "metadata": {},
   "source": [
    "### Modified weights predictions"
   ]
  },
  {
   "cell_type": "code",
   "execution_count": 22,
   "metadata": {},
   "outputs": [],
   "source": [
    "# Change layer weights - modified weights and the unchanged bias\n",
    "model.get_layer(layer_name).set_weights([weights_modified.reshape(weights_shape), model.get_layer(layer_name).get_weights()[1]])"
   ]
  },
  {
   "cell_type": "code",
   "execution_count": 23,
   "metadata": {},
   "outputs": [],
   "source": [
    "preds_modified = model.predict(dataset)"
   ]
  },
  {
   "cell_type": "markdown",
   "metadata": {},
   "source": [
    "## Differences in predictions"
   ]
  },
  {
   "cell_type": "markdown",
   "metadata": {},
   "source": [
    "### Raw prediction value comparisons (last layer output)"
   ]
  },
  {
   "cell_type": "code",
   "execution_count": 24,
   "metadata": {},
   "outputs": [],
   "source": [
    "diff_abs = np.abs(preds_original - preds_modified).ravel()"
   ]
  },
  {
   "cell_type": "code",
   "execution_count": 25,
   "metadata": {},
   "outputs": [
    {
     "data": {
      "image/png": "[encoded data removed]",
      "text/plain": [
       "<Figure size 432x288 with 1 Axes>"
      ]
     },
     "metadata": {
      "needs_background": "light"
     },
     "output_type": "display_data"
    }
   ],
   "source": [
    "plt.hist(diff_abs[diff_abs > 0]);"
   ]
  },
  {
   "cell_type": "code",
   "execution_count": 26,
   "metadata": {},
   "outputs": [
    {
     "name": "stdout",
     "output_type": "stream",
     "text": [
      "Min abs difference: 0.0\n",
      "Max abs difference: 2.2143125534057617e-05\n",
      "Number of changed values: 497772 - 87.9456%\n"
     ]
    }
   ],
   "source": [
    "print(f\"Min abs difference: {diff_abs.min()}\")\n",
    "print(f\"Max abs difference: {diff_abs.max()}\")\n",
    "print(f\"Number of changed values: {(diff_abs > 0).sum()} - {(diff_abs > 0).sum()/len(diff_abs)*100:.4f}%\")"
   ]
  },
  {
   "cell_type": "markdown",
   "metadata": {},
   "source": [
    "### Change in predicted labels"
   ]
  },
  {
   "cell_type": "code",
   "execution_count": 27,
   "metadata": {},
   "outputs": [],
   "source": [
    "nb_changed_pred_labels = ((np.argmax(preds_original, 0) - np.argmax(preds_modified, 0)) > 0).sum()"
   ]
  },
  {
   "cell_type": "code",
   "execution_count": 28,
   "metadata": {},
   "outputs": [
    {
     "name": "stdout",
     "output_type": "stream",
     "text": [
      "Changed number of predictions: 0\n"
     ]
    }
   ],
   "source": [
    "print(f\"Changed number of predictions: {nb_changed_pred_labels}\")"
   ]
  },
  {
   "cell_type": "markdown",
   "metadata": {},
   "source": [
    "# Recover the secret"
   ]
  },
  {
   "cell_type": "code",
   "execution_count": 29,
   "metadata": {},
   "outputs": [],
   "source": [
    "hidden_data: List[bool] = []\n",
    "\n",
    "for i in range(last_modified_index+1):\n",
    "    x = FloatBinary(weights_modified[i])\n",
    "    hidden_bits = x.fraction[-bits_to_use:]\n",
    "    hidden_data.extend(hidden_bits)"
   ]
  },
  {
   "cell_type": "code",
   "execution_count": 30,
   "metadata": {},
   "outputs": [],
   "source": [
    "recovered_message: str = bits_to_str(list(map(int, hidden_data)))"
   ]
  },
  {
   "cell_type": "code",
   "execution_count": 31,
   "metadata": {},
   "outputs": [
    {
     "name": "stdout",
     "output_type": "stream",
     "text": [
      "Recovered string:\n",
      "'I am Gabor and I would like to hide this message'\n"
     ]
    }
   ],
   "source": [
    "print(f\"Recovered string:\\n'{recovered_message}'\")"
   ]
  },
  {
   "cell_type": "code",
   "execution_count": 32,
   "metadata": {},
   "outputs": [],
   "source": [
    "assert recovered_message == secret_to_hide, \"Recovered message is not the same as the original one\""
   ]
  }
 ],
 "metadata": {
  "kernelspec": {
   "display_name": "Python 3",
   "language": "python",
   "name": "python3"
  },
  "language_info": {
   "codemirror_mode": {
    "name": "ipython",
    "version": 3
   },
   "file_extension": ".py",
   "mimetype": "text/x-python",
   "name": "python",
   "nbconvert_exporter": "python",
   "pygments_lexer": "ipython3",
   "version": "3.8.5"
  }
 },
 "nbformat": 4,
 "nbformat_minor": 4
}
